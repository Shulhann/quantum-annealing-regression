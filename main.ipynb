{
 "cells": [
  {
   "cell_type": "code",
   "execution_count": 588,
   "metadata": {},
   "outputs": [],
   "source": [
    "from function import *\n",
    "import numpy as np\n",
    "import networkx as nx\n",
    "from collections import defaultdict\n",
    "from sklearn.linear_model import LinearRegression\n",
    "from sklearn.preprocessing import PolynomialFeatures"
   ]
  },
  {
   "cell_type": "code",
   "execution_count": 589,
   "metadata": {},
   "outputs": [
    {
     "name": "stdout",
     "output_type": "stream",
     "text": [
      "[[1.00000000e+00 4.78261215e-01 9.66036379e-02 3.00611683e-01\n",
      "  2.28733790e-01 4.62017732e-02 1.43770909e-01 9.33226286e-03\n",
      "  2.90401822e-02 9.03673840e-02]\n",
      " [1.00000000e+00 2.96969956e-01 2.89443528e-01 4.41884829e-02\n",
      "  8.81911545e-02 8.59560317e-02 1.31226518e-02 8.37775560e-02\n",
      "  1.27900704e-02 1.95262202e-03]\n",
      " [1.00000000e+00 6.57691649e-01 2.68446643e-02 3.49217469e-01\n",
      "  4.32558305e-01 1.76555115e-02 2.29677413e-01 7.20635999e-04\n",
      "  9.37462571e-03 1.21952841e-01]\n",
      " [1.00000000e+00 2.91861957e-01 5.70982551e-01 1.26912996e-01\n",
      "  8.51834018e-02 1.66648085e-01 3.70410753e-02 3.26021073e-01\n",
      "  7.24651061e-02 1.61069085e-02]\n",
      " [1.00000000e+00 6.83789175e-01 8.59538950e-01 3.00516997e-01\n",
      "  4.67567636e-01 5.87743430e-01 2.05490270e-01 7.38807207e-01\n",
      "  2.58306064e-01 9.03104656e-02]\n",
      " [1.00000000e+00 7.78361504e-01 1.67817080e-01 6.26501861e-01\n",
      "  6.05846631e-01 1.30622354e-01 4.87644931e-01 2.81625722e-02\n",
      "  1.05137713e-01 3.92504582e-01]\n",
      " [1.00000000e+00 1.28216113e-01 8.11853780e-01 7.10640027e-01\n",
      "  1.64393716e-02 1.04092736e-01 9.11155020e-02 6.59106559e-01\n",
      "  5.76935792e-01 5.05009249e-01]\n",
      " [1.00000000e+00 9.48574822e-01 6.79222622e-01 5.03282564e-01\n",
      "  8.99794193e-01 6.44293477e-01 4.77401168e-01 4.61343370e-01\n",
      "  3.41840902e-01 2.53293339e-01]\n",
      " [1.00000000e+00 3.50568142e-01 6.97863677e-01 2.46604130e-02\n",
      "  1.22898022e-01 2.44648772e-01 8.64515517e-03 4.87013712e-01\n",
      "  1.72096065e-02 6.08135972e-04]\n",
      " [1.00000000e+00 8.56649986e-02 8.69491311e-01 3.63096515e-01\n",
      "  7.33849198e-03 7.44849720e-02 3.11046624e-02 7.56015140e-01\n",
      "  3.15709265e-01 1.31839079e-01]]\n",
      "[0.97446467 0.0242005  0.47559058 0.57009167 0.45491539 0.40938912\n",
      " 0.76710324 0.18310366 0.65131909 0.35527317]\n",
      "10 200\n"
     ]
    }
   ],
   "source": [
    "# Using Random Data\n",
    "\n",
    "# Number of data\n",
    "N = 10\n",
    "# Number of features\n",
    "d = 3\n",
    "# Control precision bit of the output \n",
    "precision = 10\n",
    "# Size of the QUBO matrix\n",
    "dim = d * (2 * precision)\n",
    "\n",
    "# Generate Random Data\n",
    "X = np.random.rand(N, d)\n",
    "Y = np.random.rand(N)\n",
    "\n",
    "# If you want to perform polynomial regression\n",
    "# X, d, dim = polynomialForm(X, d, dim, precision)\n",
    "\n",
    "print(X)\n",
    "print(Y)\n",
    "print(d, dim)"
   ]
  },
  {
   "cell_type": "code",
   "execution_count": 590,
   "metadata": {},
   "outputs": [],
   "source": [
    "XtX = np.matmul(X.T, X) # Covariance matrix\n",
    "XtY = np.matmul(X.T, Y) # Relation between Features and Y\n",
    "\n",
    "# print(XtX)\n",
    "# print(XtY)"
   ]
  },
  {
   "cell_type": "code",
   "execution_count": 591,
   "metadata": {},
   "outputs": [
    {
     "name": "stdout",
     "output_type": "stream",
     "text": [
      "Graph with 200 nodes and 19900 edges\n",
      "defaultdict(<class 'int'>, {})\n"
     ]
    }
   ],
   "source": [
    "# Creating the graph\n",
    "G = nx.Graph()\n",
    "G.add_edges_from([(i, j) for i in range(dim) for j in range(i + 1, dim)])\n",
    "\n",
    "# The matrix where we add the objective and the constraint (QUBO matrix)s\n",
    "Q = defaultdict(int)\n",
    "\n",
    "print(G)\n",
    "print(Q)"
   ]
  },
  {
   "cell_type": "code",
   "execution_count": 592,
   "metadata": {},
   "outputs": [],
   "source": [
    "generateQuboMatrix(XtX, XtY, precision, Q, d)"
   ]
  },
  {
   "cell_type": "code",
   "execution_count": 593,
   "metadata": {},
   "outputs": [
    {
     "name": "stdout",
     "output_type": "stream",
     "text": [
      "[ 0.62890625 -0.5         0.28710938  1.25       -0.05859375  0.875\n",
      " -1.16210938 -1.         -0.24609375 -0.24414062]\n",
      "MSE Quantum :  0.03276511021242938\n"
     ]
    }
   ],
   "source": [
    "sampleset = sampling(Q)\n",
    "distributions, weights, error = solve(sampleset, dim, precision, X,Y, d)\n",
    "\n",
    "# print(distributions)\n",
    "print(weights)\n",
    "print(\"MSE Quantum : \", error)"
   ]
  },
  {
   "cell_type": "code",
   "execution_count": 594,
   "metadata": {},
   "outputs": [
    {
     "name": "stdout",
     "output_type": "stream",
     "text": [
      "[  0.         -12.80509922   1.29995121  20.12329745  13.45344005\n",
      "  10.89241529 -22.75069703  -2.55562076 -20.59188476   0.24048282]\n",
      "MSE Sklearn:  1.2894178014870318e-29\n"
     ]
    }
   ],
   "source": [
    "clf = LinearRegression()\n",
    "clf.fit(X, Y)\n",
    "print(clf.coef_)\n",
    "print(\"MSE Sklearn: \", mse(clf.predict(X),Y))"
   ]
  },
  {
   "cell_type": "code",
   "execution_count": 595,
   "metadata": {},
   "outputs": [
    {
     "name": "stdout",
     "output_type": "stream",
     "text": [
      "Sklearn perform  2.5410778550321502e+29 % better than Quantum\n"
     ]
    }
   ],
   "source": [
    "diff = 100*(error - mse(clf.predict(X),Y))/mse(clf.predict(X),Y)\n",
    "\n",
    "print(\"Sklearn perform \", diff, \"% better than Quantum\")"
   ]
  },
  {
   "cell_type": "code",
   "execution_count": 596,
   "metadata": {},
   "outputs": [],
   "source": [
    "# poly = PolynomialFeatures(degree=2)\n",
    "# X_poly = poly.fit_transform(X)\n",
    "\n",
    "# clf = LinearRegression()\n",
    "# clf.fit(X_poly, Y)\n",
    "# print(clf.coef_)\n",
    "# print(\"MSE Sklearn: \", mse(clf.predict(X),Y))"
   ]
  }
 ],
 "metadata": {
  "kernelspec": {
   "display_name": "Python 3",
   "language": "python",
   "name": "python3"
  },
  "language_info": {
   "codemirror_mode": {
    "name": "ipython",
    "version": 3
   },
   "file_extension": ".py",
   "mimetype": "text/x-python",
   "name": "python",
   "nbconvert_exporter": "python",
   "pygments_lexer": "ipython3",
   "version": "3.10.6"
  }
 },
 "nbformat": 4,
 "nbformat_minor": 2
}
