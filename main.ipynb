{
 "cells": [
  {
   "cell_type": "code",
   "execution_count": 29,
   "metadata": {},
   "outputs": [],
   "source": [
    "from function import *\n",
    "import numpy as np\n",
    "import networkx as nx\n",
    "from collections import defaultdict\n",
    "from sklearn.linear_model import LinearRegression\n",
    "from sklearn.preprocessing import PolynomialFeatures\n",
    "from sklearn.model_selection import train_test_split\n",
    "from sklearn.metrics import mean_squared_error, mean_absolute_error, r2_score\n",
    "import pandas as pd\n",
    "import matplotlib.pyplot as plt"
   ]
  },
  {
   "cell_type": "markdown",
   "metadata": {},
   "source": [
    "#### LOAD THE DATA"
   ]
  },
  {
   "cell_type": "code",
   "execution_count": 30,
   "metadata": {},
   "outputs": [
    {
     "name": "stdout",
     "output_type": "stream",
     "text": [
      "(614, 45)\n",
      "(154, 45)\n",
      "(614,)\n",
      "(154,)\n"
     ]
    }
   ],
   "source": [
    "# Using Random Data\n",
    "# N = 100000                # Number of data\n",
    "# d = 2                     # Number of features\n",
    "# precision = 2             # Control precision bit of the output\n",
    "# dim = d * (2 * precision) # Size of the QUBO matrix\n",
    "# degree = 2                # Degree of the polynomial regression\n",
    "\n",
    "# # Generate Random Data\n",
    "# X = np.random.rand(N, d)\n",
    "# Y = np.random.rand(N)\n",
    "\n",
    "# Using Dataset\n",
    "dataset = 'dataset/processed dataset/dataset_2b.csv'\n",
    "df = pd.read_csv(dataset)\n",
    "\n",
    "X = df.iloc[:, :-1].values\n",
    "Y = df.iloc[:, -1].values\n",
    "d = X.shape[1]\n",
    "precision = 3\n",
    "dim = d * (2 * precision)\n",
    "degree = 2\n",
    "\n",
    "# Train-Test data splitting\n",
    "X_train, X_test, Y_train, Y_test = train_test_split(X, Y, test_size=0.2, random_state=42)\n",
    "\n",
    "# If you want to perform polynomial regression\n",
    "X_train, d, dim = polynomialForm(X_train, d, dim, precision, degree)\n",
    "X_test, _, _ = polynomialForm(X_test, d, dim, precision, degree) \n",
    "\n",
    "print(X_train.shape)\n",
    "print(X_test.shape)\n",
    "print(Y_train.shape)\n",
    "print(Y_test.shape)"
   ]
  },
  {
   "cell_type": "markdown",
   "metadata": {},
   "source": [
    "#### COMPUTING SOME IMPORTANT VARIABLES\n",
    "Initiating variables that required to creating QUBO Matrix"
   ]
  },
  {
   "cell_type": "code",
   "execution_count": 31,
   "metadata": {},
   "outputs": [
    {
     "name": "stdout",
     "output_type": "stream",
     "text": [
      "[[614.         241.63888889 332.75       ... 281.640625   215.55\n",
      "  251.56      ]\n",
      " [241.63888889 147.66589506  77.55787037 ... 111.40581597  85.33541667\n",
      "   98.82      ]\n",
      " [332.75        77.55787037 235.45138889 ... 151.79947917 116.14166667\n",
      "  136.47      ]\n",
      " ...\n",
      " [281.640625   111.40581597 151.79947917 ... 225.57739258 145.7296875\n",
      "  122.45875   ]\n",
      " [215.55        85.33541667 116.14166667 ... 145.7296875  122.45875\n",
      "  128.598     ]\n",
      " [251.56        98.82       136.47       ... 122.45875    128.598\n",
      "  178.7344    ]]\n",
      "[223.42068408 117.34788431  89.17820271 112.41229656  81.12152497\n",
      " 179.9461352  113.0666128  142.65381767 127.10697549  77.40228339\n",
      "  31.66134502  53.25916129  26.86864221 111.42236736  59.28866794\n",
      "  74.56569542  66.78236077  50.53079271  49.75790338  48.49117715\n",
      "  53.64898106  45.29423647  57.36034709  50.74275967  70.72941733\n",
      "  36.31261249  94.97960833  57.48856656  71.0860394   63.87205571\n",
      "  54.43876537  37.64697609  40.8048997   52.8921694   46.2247419\n",
      " 179.9461352   90.68578867 113.33480339 102.05892809  88.04437861\n",
      "  73.23198896  64.48375976 114.79884443  84.73722731  92.46917318]\n"
     ]
    }
   ],
   "source": [
    "XtX = np.matmul(X_train.T, X_train) # Covariance matrix\n",
    "XtY = np.matmul(X_train.T, Y_train) # Relation between Features and Y\n",
    "\n",
    "print(XtX)\n",
    "print(XtY)"
   ]
  },
  {
   "cell_type": "markdown",
   "metadata": {},
   "source": [
    "#### FIXSTAR AMPLIFY SIMULATED ANNEALER"
   ]
  },
  {
   "cell_type": "code",
   "execution_count": 32,
   "metadata": {},
   "outputs": [],
   "source": [
    "model = generateQuboMatrix_fixstar(XtX, XtY, dim, precision, d)\n",
    "distributions_fixstar, weights_fixstar = solve_fixstar(model, dim, precision, d)"
   ]
  },
  {
   "cell_type": "code",
   "execution_count": 33,
   "metadata": {},
   "outputs": [
    {
     "name": "stdout",
     "output_type": "stream",
     "text": [
      "Fixstar Training Evaluation:\n",
      "MSE: 0.00651, MAE: 0.05705, R²: 0.89984\n",
      "\n",
      "Fixstar Testing Evaluation:\n",
      "MSE: 0.00672, MAE: 0.05815, R²: 0.89997\n"
     ]
    }
   ],
   "source": [
    "Y_train_pred_fixstar = np.dot(X_train, weights_fixstar)\n",
    "Y_test_pred_fixstar = np.dot(X_test, weights_fixstar)\n",
    "\n",
    "# Evaluate on training data\n",
    "train_mse_fixstar = mean_squared_error(Y_train, Y_train_pred_fixstar)\n",
    "train_mae_fixstar = mean_absolute_error(Y_train, Y_train_pred_fixstar)\n",
    "train_r2_fixstar = r2_score(Y_train, Y_train_pred_fixstar) \n",
    "\n",
    "# Evaluate on test data\n",
    "test_mse_fixstar = mean_squared_error(Y_test, Y_test_pred_fixstar)\n",
    "test_mae_fixstar = mean_absolute_error(Y_test, Y_test_pred_fixstar)\n",
    "test_r2_fixstar = r2_score(Y_test, Y_test_pred_fixstar)\n",
    "\n",
    "# Print the metrics\n",
    "print(\"Fixstar Training Evaluation:\")\n",
    "print(f\"MSE: {train_mse_fixstar:.5f}, MAE: {train_mae_fixstar:.5f}, R²: {train_r2_fixstar:.5f}\")    \n",
    "\n",
    "print(\"\\nFixstar Testing Evaluation:\")\n",
    "print(f\"MSE: {test_mse_fixstar:.5f}, MAE: {test_mae_fixstar:.5f}, R²: {test_r2_fixstar:.5f}\")  "
   ]
  },
  {
   "cell_type": "markdown",
   "metadata": {},
   "source": [
    "#### NEAL SIMULATED ANNEALER"
   ]
  },
  {
   "cell_type": "code",
   "execution_count": 34,
   "metadata": {},
   "outputs": [],
   "source": [
    "Q = generateQuboMatrix_neal(XtX, XtY, precision, d)\n",
    "sampleset = sampling(Q)\n",
    "distributions_neal, weights_neal = solve_neal(sampleset, dim, precision, d)"
   ]
  },
  {
   "cell_type": "code",
   "execution_count": 35,
   "metadata": {},
   "outputs": [
    {
     "name": "stdout",
     "output_type": "stream",
     "text": [
      "Neal Training Evaluation:\n",
      "MSE: 0.03299, MAE: 0.14187, R²: 0.49275\n",
      "\n",
      "Neal Testing Evaluation:\n",
      "MSE: 0.03353, MAE: 0.14552, R²: 0.50108\n"
     ]
    }
   ],
   "source": [
    "Y_train_pred_neal = np.dot(X_train, weights_neal)\n",
    "Y_test_pred_neal = np.dot(X_test, weights_neal)\n",
    "\n",
    "# Evaluate on training data\n",
    "train_mse_neal = mean_squared_error(Y_train, Y_train_pred_neal)\n",
    "train_mae_neal = mean_absolute_error(Y_train, Y_train_pred_neal)\n",
    "train_r2_neal = r2_score(Y_train, Y_train_pred_neal)\n",
    "\n",
    "# Evaluate on test data\n",
    "test_mse_neal = mean_squared_error(Y_test, Y_test_pred_neal)\n",
    "test_mae_neal = mean_absolute_error(Y_test, Y_test_pred_neal)\n",
    "test_r2_neal = r2_score(Y_test, Y_test_pred_neal)\n",
    "\n",
    "# Print the metrics\n",
    "print(\"Neal Training Evaluation:\")\n",
    "print(f\"MSE: {train_mse_neal:.5f}, MAE: {train_mae_neal:.5f}, R²: {train_r2_neal:.5f}\")\n",
    "\n",
    "print(\"\\nNeal Testing Evaluation:\")\n",
    "print(f\"MSE: {test_mse_neal:.5f}, MAE: {test_mae_neal:.5f}, R²: {test_r2_neal:.5f}\")"
   ]
  },
  {
   "cell_type": "markdown",
   "metadata": {},
   "source": [
    "#### SCIKIT LEARN (TRADISIONAL WAY)"
   ]
  },
  {
   "cell_type": "code",
   "execution_count": 36,
   "metadata": {},
   "outputs": [
    {
     "name": "stdout",
     "output_type": "stream",
     "text": [
      "Coefficients: [ 3.30618190e-11  8.76536516e+02  6.40329815e+01  2.50326720e+02\n",
      " -1.09321251e+02  5.07066090e+01 -7.73737566e-02  3.90531126e-01\n",
      "  9.36590398e-02 -8.44354983e+02 -4.86101504e+02 -5.25650374e+02\n",
      " -4.45102665e+01  5.39421064e+02  1.03527960e-02  6.55164409e-02\n",
      " -2.26341634e-02  8.55916355e+01 -2.01751176e+02  2.85269313e+02\n",
      "  1.22844065e+02  9.53948460e-03 -1.33373746e-01 -2.19234772e-02\n",
      " -1.04509111e+02 -1.32088544e+02  3.00439110e+02 -1.40770851e-02\n",
      "  8.41593731e-02 -1.05309617e-02  4.58801007e+02 -5.86146420e+01\n",
      "  6.47399064e-03 -1.56504259e-01 -2.27433782e-04  5.07066090e+01\n",
      "  1.16211625e-02 -1.48352875e-01  1.29050950e-02  5.28454434e-02\n",
      "  1.47238945e-02  1.95238696e-02 -2.95049691e-02 -6.15371451e-02\n",
      " -4.42769872e-02]\n",
      "Execution time: 0.05687 seconds\n",
      "\n",
      "Fixstar Training Evaluation:\n",
      "MSE: 0.00175, MAE: 0.02814, R²: 0.97307\n",
      "\n",
      "Fixstar Testing Evaluation:\n",
      "MSE: 0.00216, MAE: 0.03207, R²: 0.96785\n"
     ]
    }
   ],
   "source": [
    "import time\n",
    "from sklearn.linear_model import LinearRegression\n",
    "from sklearn.metrics import mean_squared_error as mse\n",
    "\n",
    "start_time = time.time() \n",
    "\n",
    "clf = LinearRegression()\n",
    "clf.fit(X_train, Y_train)\n",
    "print(\"Coefficients:\", clf.coef_)\n",
    "\n",
    "Y_train_pred_sklearn = clf.predict(X_train)\n",
    "Y_test_pred_sklearn = clf.predict(X_test)\n",
    "\n",
    "# Evaluate on training data\n",
    "train_mse_sklearn = mean_squared_error(Y_train, Y_train_pred_sklearn)\n",
    "train_mae_sklearn = mean_absolute_error(Y_train, Y_train_pred_sklearn)\n",
    "train_r2_sklearn = r2_score(Y_train, Y_train_pred_sklearn) \n",
    "\n",
    "# Evaluate on test data\n",
    "test_mse_sklearn = mean_squared_error(Y_test, Y_test_pred_sklearn)\n",
    "test_mae_sklearn = mean_absolute_error(Y_test, Y_test_pred_sklearn)\n",
    "test_r2_sklearn = r2_score(Y_test, Y_test_pred_sklearn)\n",
    "\n",
    "end_time = time.time()  \n",
    "execution_time = end_time - start_time\n",
    "\n",
    "print(f\"Execution time: {execution_time:.5f} seconds\\n\")\n",
    "\n",
    "# Print the metrics\n",
    "print(\"Fixstar Training Evaluation:\")\n",
    "print(f\"MSE: {train_mse_sklearn:.5f}, MAE: {train_mae_sklearn:.5f}, R²: {train_r2_sklearn:.5f}\")    \n",
    "\n",
    "print(\"\\nFixstar Testing Evaluation:\")\n",
    "print(f\"MSE: {test_mse_sklearn:.5f}, MAE: {test_mae_sklearn:.5f}, R²: {test_r2_sklearn:.5f}\")  "
   ]
  },
  {
   "cell_type": "markdown",
   "metadata": {},
   "source": [
    "#### VISUALIZATION OF GRAPH"
   ]
  },
  {
   "cell_type": "code",
   "execution_count": 37,
   "metadata": {},
   "outputs": [],
   "source": [
    "# # Initialize the graph and add all nodes first\n",
    "# G = nx.Graph()\n",
    "# nodes = set()\n",
    "# for (i, j) in Q.keys():\n",
    "#     nodes.add(i)\n",
    "#     nodes.add(j)\n",
    "# G.add_nodes_from(nodes)\n",
    "\n",
    "# # Now add edges and node attributes\n",
    "# for (i, j), weight in Q.items():\n",
    "#     if weight != 0 and i <= j:  # Avoid duplicates and zero-weights\n",
    "#         if i == j:\n",
    "#             G.nodes[i]['bias'] = weight  # Now safe because node exists\n",
    "#         else:\n",
    "#             G.add_edge(i, j, weight=weight)\n",
    "\n",
    "# # Visualization\n",
    "# plt.figure(figsize=(12, 10))\n",
    "# pos = nx.circular_layout(G)\n",
    "\n",
    "# # Draw nodes and edges\n",
    "# nx.draw_networkx_nodes(G, pos, node_color='lightblue', node_size=800)\n",
    "# nx.draw_networkx_labels(G, pos, font_size=12)\n",
    "\n",
    "# # Scale edge widths by absolute weight\n",
    "# max_weight = max(abs(d['weight']) for _, _, d in G.edges(data=True))\n",
    "# edge_widths = [0.1 + 2 * abs(G[u][v]['weight']) / max_weight for u, v in G.edges()]\n",
    "# nx.draw_networkx_edges(G, pos, width=edge_widths, edge_color='gray')\n",
    "\n",
    "# # Add edge labels (rounded)\n",
    "# edge_labels = {(u, v): f\"{d['weight']:.1f}\" for u, v, d in G.edges(data=True)}\n",
    "# nx.draw_networkx_edge_labels(G, pos, edge_labels=edge_labels, font_size=8)\n",
    "\n",
    "# # Add node biases\n",
    "# for node, (x, y) in pos.items():\n",
    "#     bias = G.nodes[node].get('bias', 0)\n",
    "#     plt.text(x, y-0.1, f\"bias={bias:.1f}\", ha='center', fontsize=8, color='red')\n",
    "\n",
    "# plt.title(\"QUBO Graph (Edge Width ∝ |Weight|)\", fontsize=14)\n",
    "# plt.axis('off')\n",
    "# plt.show()"
   ]
  },
  {
   "cell_type": "code",
   "execution_count": 38,
   "metadata": {},
   "outputs": [],
   "source": [
    "# pos = nx.spring_layout(G, k=0.5, weight='weight', iterations=100)\n",
    "# nx.draw(G, pos, with_labels=True, \n",
    "#        node_color='lightblue', node_size=800,\n",
    "#        width=[0.1 + 2*abs(G[u][v]['weight'])/max_weight for u,v in G.edges()],\n",
    "#        edge_color='gray')"
   ]
  },
  {
   "cell_type": "code",
   "execution_count": 39,
   "metadata": {},
   "outputs": [],
   "source": [
    "# from mpl_toolkits.mplot3d import Axes3D\n",
    "\n",
    "# pos = nx.spring_layout(G, dim=3, weight='weight')\n",
    "# fig = plt.figure()\n",
    "# ax = fig.add_subplot(111, projection='3d')\n",
    "# for u, v in G.edges():\n",
    "#     ax.plot([pos[u][0], pos[v][0]], \n",
    "#             [pos[u][1], pos[v][1]], \n",
    "#             [pos[u][2], pos[v][2]], \n",
    "#             'gray')\n",
    "# ax.scatter(*np.array(list(pos.values())).T, s=100, c='lightblue')\n",
    "# plt.show()"
   ]
  },
  {
   "cell_type": "markdown",
   "metadata": {},
   "source": [
    "#### FINAL EVALUATION"
   ]
  },
  {
   "cell_type": "code",
   "execution_count": 40,
   "metadata": {},
   "outputs": [
    {
     "data": {
      "text/html": [
       "<div>\n",
       "<style scoped>\n",
       "    .dataframe tbody tr th:only-of-type {\n",
       "        vertical-align: middle;\n",
       "    }\n",
       "\n",
       "    .dataframe tbody tr th {\n",
       "        vertical-align: top;\n",
       "    }\n",
       "\n",
       "    .dataframe thead th {\n",
       "        text-align: right;\n",
       "    }\n",
       "</style>\n",
       "<table border=\"1\" class=\"dataframe\">\n",
       "  <thead>\n",
       "    <tr style=\"text-align: right;\">\n",
       "      <th></th>\n",
       "      <th>Model</th>\n",
       "      <th>Dataset</th>\n",
       "      <th>MSE</th>\n",
       "      <th>MAE</th>\n",
       "      <th>R2 Score</th>\n",
       "    </tr>\n",
       "  </thead>\n",
       "  <tbody>\n",
       "    <tr>\n",
       "      <th>0</th>\n",
       "      <td>Neal</td>\n",
       "      <td>Train</td>\n",
       "      <td>0.032989</td>\n",
       "      <td>0.141873</td>\n",
       "      <td>0.492747</td>\n",
       "    </tr>\n",
       "    <tr>\n",
       "      <th>1</th>\n",
       "      <td>Neal</td>\n",
       "      <td>Test</td>\n",
       "      <td>0.033532</td>\n",
       "      <td>0.145523</td>\n",
       "      <td>0.501079</td>\n",
       "    </tr>\n",
       "    <tr>\n",
       "      <th>2</th>\n",
       "      <td>Fixstar</td>\n",
       "      <td>Train</td>\n",
       "      <td>0.006514</td>\n",
       "      <td>0.057053</td>\n",
       "      <td>0.899844</td>\n",
       "    </tr>\n",
       "    <tr>\n",
       "      <th>3</th>\n",
       "      <td>Fixstar</td>\n",
       "      <td>Test</td>\n",
       "      <td>0.006723</td>\n",
       "      <td>0.058149</td>\n",
       "      <td>0.899973</td>\n",
       "    </tr>\n",
       "    <tr>\n",
       "      <th>4</th>\n",
       "      <td>Sklearn</td>\n",
       "      <td>Train</td>\n",
       "      <td>0.001751</td>\n",
       "      <td>0.028138</td>\n",
       "      <td>0.973070</td>\n",
       "    </tr>\n",
       "    <tr>\n",
       "      <th>5</th>\n",
       "      <td>Sklearn</td>\n",
       "      <td>Test</td>\n",
       "      <td>0.002161</td>\n",
       "      <td>0.032073</td>\n",
       "      <td>0.967849</td>\n",
       "    </tr>\n",
       "  </tbody>\n",
       "</table>\n",
       "</div>"
      ],
      "text/plain": [
       "     Model Dataset       MSE       MAE  R2 Score\n",
       "0     Neal   Train  0.032989  0.141873  0.492747\n",
       "1     Neal    Test  0.033532  0.145523  0.501079\n",
       "2  Fixstar   Train  0.006514  0.057053  0.899844\n",
       "3  Fixstar    Test  0.006723  0.058149  0.899973\n",
       "4  Sklearn   Train  0.001751  0.028138  0.973070\n",
       "5  Sklearn    Test  0.002161  0.032073  0.967849"
      ]
     },
     "execution_count": 40,
     "metadata": {},
     "output_type": "execute_result"
    }
   ],
   "source": [
    "data = {\n",
    "    \"Model\": [\"Neal\", \"Neal\", \"Fixstar\", \"Fixstar\", \"Sklearn\", \"Sklearn\"],\n",
    "    \"Dataset\": [\"Train\", \"Test\", \"Train\", \"Test\", \"Train\", \"Test\"],\n",
    "    \"MSE\": [\n",
    "        train_mse_neal, test_mse_neal,\n",
    "        train_mse_fixstar, test_mse_fixstar,\n",
    "        train_mse_sklearn, test_mse_sklearn\n",
    "    ],\n",
    "    \"MAE\": [\n",
    "        train_mae_neal, test_mae_neal,\n",
    "        train_mae_fixstar, test_mae_fixstar,\n",
    "        train_mae_sklearn, test_mae_sklearn\n",
    "    ],\n",
    "    \"R2 Score\": [\n",
    "        train_r2_neal, test_r2_neal,\n",
    "        train_r2_fixstar, test_r2_fixstar,\n",
    "        train_r2_sklearn, test_r2_sklearn\n",
    "    ]\n",
    "}\n",
    "\n",
    "df_eval = pd.DataFrame(data)\n",
    "df_eval"
   ]
  }
 ],
 "metadata": {
  "kernelspec": {
   "display_name": "Python 3",
   "language": "python",
   "name": "python3"
  },
  "language_info": {
   "codemirror_mode": {
    "name": "ipython",
    "version": 3
   },
   "file_extension": ".py",
   "mimetype": "text/x-python",
   "name": "python",
   "nbconvert_exporter": "python",
   "pygments_lexer": "ipython3",
   "version": "3.10.6"
  }
 },
 "nbformat": 4,
 "nbformat_minor": 2
}
