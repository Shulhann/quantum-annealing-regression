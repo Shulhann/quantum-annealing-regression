{
 "cells": [
  {
   "cell_type": "code",
   "execution_count": 624,
   "metadata": {},
   "outputs": [],
   "source": [
    "from function import *\n",
    "import numpy as np\n",
    "import networkx as nx\n",
    "from collections import defaultdict\n",
    "from sklearn.linear_model import LinearRegression\n",
    "from sklearn.preprocessing import PolynomialFeatures"
   ]
  },
  {
   "cell_type": "code",
   "execution_count": 625,
   "metadata": {},
   "outputs": [
    {
     "name": "stdout",
     "output_type": "stream",
     "text": [
      "[[0.33771271 0.11131162 0.24207253 0.93109941]\n",
      " [0.37109087 0.90399408 0.93233622 0.73108966]\n",
      " [0.04431574 0.53982683 0.58526018 0.70231093]\n",
      " [0.30387732 0.34027931 0.59892294 0.49102441]\n",
      " [0.0610724  0.35161679 0.33571539 0.28955366]\n",
      " [0.45236999 0.95963303 0.95910967 0.21640982]\n",
      " [0.83219563 0.75147191 0.14324611 0.82675327]\n",
      " [0.19509578 0.12408934 0.56268092 0.33263031]\n",
      " [0.17681057 0.96738611 0.1290571  0.06232768]\n",
      " [0.07347971 0.17482535 0.97937162 0.1512834 ]]\n",
      "[0.52538489 0.99223003 0.88020413 0.80097541 0.48174045 0.44875928\n",
      " 0.80674161 0.26339536 0.55023415 0.37164374]\n",
      "4 40\n"
     ]
    }
   ],
   "source": [
    "# Using Random Data\n",
    "\n",
    "# Number of data\n",
    "N = 10\n",
    "# Number of features\n",
    "d = 4\n",
    "# Control precision bit of the output \n",
    "precision = 5\n",
    "# Size of the QUBO matrix\n",
    "dim = d * (2 * precision)\n",
    "\n",
    "# Generate Random Data\n",
    "X = np.random.rand(N, d)\n",
    "Y = np.random.rand(N)\n",
    "\n",
    "# If you want to perform polynomial regression\n",
    "# X, d, dim = polynomialForm(X, d, dim, precision)\n",
    "\n",
    "print(X)\n",
    "print(Y)\n",
    "print(d, dim)"
   ]
  },
  {
   "cell_type": "code",
   "execution_count": 626,
   "metadata": {},
   "outputs": [],
   "source": [
    "XtX = np.matmul(X.T, X) # Covariance matrix\n",
    "XtY = np.matmul(X.T, Y) # Relation between Features and Y\n",
    "\n",
    "# print(XtX)\n",
    "# print(XtY)"
   ]
  },
  {
   "cell_type": "code",
   "execution_count": 627,
   "metadata": {},
   "outputs": [
    {
     "name": "stdout",
     "output_type": "stream",
     "text": [
      "Graph with 40 nodes and 780 edges\n",
      "defaultdict(<class 'int'>, {})\n"
     ]
    }
   ],
   "source": [
    "# Creating the graph\n",
    "G = nx.Graph()\n",
    "G.add_edges_from([(i, j) for i in range(dim) for j in range(i + 1, dim)])\n",
    "\n",
    "# The matrix where we add the objective and the constraint (QUBO matrix)s\n",
    "Q = defaultdict(int)\n",
    "\n",
    "print(G)\n",
    "print(Q)"
   ]
  },
  {
   "cell_type": "code",
   "execution_count": 628,
   "metadata": {},
   "outputs": [],
   "source": [
    "generateQuboMatrix(XtX, XtY, precision, Q, d)"
   ]
  },
  {
   "cell_type": "code",
   "execution_count": 629,
   "metadata": {},
   "outputs": [
    {
     "name": "stdout",
     "output_type": "stream",
     "text": [
      "[-0.125   0.4375  0.1875  0.6875]\n",
      "MSE Quantum :  0.015263560657159222\n"
     ]
    }
   ],
   "source": [
    "sampleset = sampling(Q)\n",
    "distributions, weights, error = solve(sampleset, dim, precision, X,Y, d)\n",
    "\n",
    "# print(distributions)\n",
    "print(weights)\n",
    "print(\"MSE Quantum : \", error)"
   ]
  },
  {
   "cell_type": "code",
   "execution_count": 630,
   "metadata": {},
   "outputs": [
    {
     "name": "stdout",
     "output_type": "stream",
     "text": [
      "[-0.35133094  0.46952013  0.06464632  0.68612892]\n",
      "MSE Sklearn:  0.014137986633270472\n"
     ]
    }
   ],
   "source": [
    "clf = LinearRegression()\n",
    "clf.fit(X, Y)\n",
    "print(clf.coef_)\n",
    "print(\"MSE Sklearn: \", mse(clf.predict(X),Y))"
   ]
  },
  {
   "cell_type": "code",
   "execution_count": 631,
   "metadata": {},
   "outputs": [
    {
     "name": "stdout",
     "output_type": "stream",
     "text": [
      "Sklearn perform  7.961345933373369 % better than Quantum\n"
     ]
    }
   ],
   "source": [
    "diff = 100*(error - mse(clf.predict(X),Y))/mse(clf.predict(X),Y)\n",
    "\n",
    "print(\"Sklearn perform \", diff, \"% better than Quantum\")"
   ]
  },
  {
   "cell_type": "code",
   "execution_count": 632,
   "metadata": {},
   "outputs": [],
   "source": [
    "# poly = PolynomialFeatures(degree=2)\n",
    "# X_poly = poly.fit_transform(X)\n",
    "\n",
    "# clf = LinearRegression()\n",
    "# clf.fit(X_poly, Y)\n",
    "# print(clf.coef_)\n",
    "# print(\"MSE Sklearn: \", mse(clf.predict(X),Y))"
   ]
  }
 ],
 "metadata": {
  "kernelspec": {
   "display_name": "Python 3",
   "language": "python",
   "name": "python3"
  },
  "language_info": {
   "codemirror_mode": {
    "name": "ipython",
    "version": 3
   },
   "file_extension": ".py",
   "mimetype": "text/x-python",
   "name": "python",
   "nbconvert_exporter": "python",
   "pygments_lexer": "ipython3",
   "version": "3.10.6"
  }
 },
 "nbformat": 4,
 "nbformat_minor": 2
}
