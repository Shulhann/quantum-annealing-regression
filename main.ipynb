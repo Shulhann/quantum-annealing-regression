{
 "cells": [
  {
   "cell_type": "code",
   "execution_count": 38,
   "metadata": {},
   "outputs": [],
   "source": [
    "from function import *\n",
    "import numpy as np\n",
    "import networkx as nx\n",
    "from collections import defaultdict\n",
    "from sklearn.linear_model import LinearRegression\n",
    "from sklearn.preprocessing import PolynomialFeatures\n",
    "from sklearn.model_selection import train_test_split\n",
    "from sklearn.metrics import mean_squared_error, mean_absolute_error, r2_score\n",
    "import pandas as pd"
   ]
  },
  {
   "cell_type": "code",
   "execution_count": 39,
   "metadata": {},
   "outputs": [
    {
     "name": "stdout",
     "output_type": "stream",
     "text": [
      "(800000, 56)\n",
      "(200000, 56)\n",
      "(800000,)\n",
      "(200000,)\n",
      "56 336\n"
     ]
    }
   ],
   "source": [
    "# Using Random Data\n",
    "\n",
    "# Number of data\n",
    "N = 1000000\n",
    "# Number of features\n",
    "d = 5\n",
    "# Control precision bit of the output \n",
    "precision = 3\n",
    "# Size of the QUBO matrix\n",
    "dim = d * (2 * precision)\n",
    "# Degree of the polynomial regression\n",
    "degree = 3\n",
    "\n",
    "# Generate Random Data\n",
    "X = np.random.rand(N, d)\n",
    "Y = np.random.rand(N)\n",
    "\n",
    "# Train-Test data splitting\n",
    "X_train, X_test, Y_train, Y_test = train_test_split(X, Y, test_size=0.2, random_state=42)\n",
    "\n",
    "# If you want to perform polynomial regression\n",
    "X_train, d, dim = polynomialForm(X_train, d, dim, precision, degree)\n",
    "X_test, _, _ = polynomialForm(X_test, d, dim, precision, degree) \n",
    "\n",
    "print(X_train.shape)\n",
    "print(X_test.shape)\n",
    "print(Y_train.shape)\n",
    "print(Y_test.shape)\n",
    "print(d, dim)"
   ]
  },
  {
   "cell_type": "code",
   "execution_count": 40,
   "metadata": {},
   "outputs": [
    {
     "name": "stdout",
     "output_type": "stream",
     "text": [
      "[[800000.         400211.34778709 400561.96155841 ... 133365.54227412\n",
      "  133309.67650569 200124.45096237]\n",
      " [400211.34778709 266836.70048387 200298.4829812  ...  66690.81487698\n",
      "   66666.53363155 100133.26484683]\n",
      " [400561.96155841 200298.4829812  267212.67476394 ...  66735.22929684\n",
      "   66717.4514864  100215.40547428]\n",
      " ...\n",
      " [133365.54227412  66690.81487698  66735.22929684 ...  53347.25302259\n",
      "   49956.2706485   53246.31881766]\n",
      " [133309.67650569  66666.53363155  66717.4514864  ...  49956.2706485\n",
      "   53246.31881766  66562.23022682]\n",
      " [200124.45096237 100133.26484683 100215.40547428 ...  53246.31881766\n",
      "   66562.23022682 114301.44410927]]\n",
      "[399756.79669628 200078.67320914 200100.99703946 199814.78172603\n",
      " 199667.26981194 200104.32288001 133427.43628402 100150.94926186\n",
      "  99987.97884474  99952.87051269 100143.72315232 133477.09393655\n",
      " 100002.20778532  99908.96499093 100184.4444945  133206.47061738\n",
      "  99812.19719619  99984.7929451  133062.17494389  99932.43307175\n",
      " 133425.52127539 100073.34660863  66791.91341171  66689.51520593\n",
      "  66680.96446603  66769.07073199  66807.52946078  50044.28215598\n",
      "  50018.15718563  50123.66020423  66649.8020536   49957.25456099\n",
      "  50027.83441224  66603.49387885  50017.38659906  66770.43077784\n",
      " 100139.98152394  66700.08387659  66639.42470071  66841.22853062\n",
      "  66655.98592578  49955.5660723   50030.53570833  66589.32595437\n",
      "  49995.70372014  66804.78328165  99911.30706378  66540.08299449\n",
      "  66620.71613843  66521.38746302  49949.59479212  66670.71573245\n",
      "  99783.88057537  66603.73685242  66604.27445507 100072.87035423]\n"
     ]
    }
   ],
   "source": [
    "XtX = np.matmul(X_train.T, X_train) # Covariance matrix\n",
    "XtY = np.matmul(X_train.T, Y_train) # Relation between Features and Y\n",
    "\n",
    "print(XtX)\n",
    "print(XtY)"
   ]
  },
  {
   "cell_type": "code",
   "execution_count": 41,
   "metadata": {},
   "outputs": [
    {
     "name": "stdout",
     "output_type": "stream",
     "text": [
      "Graph with 336 nodes and 56280 edges\n",
      "defaultdict(<class 'int'>, {})\n"
     ]
    }
   ],
   "source": [
    "# Creating the graph\n",
    "G = nx.Graph()\n",
    "G.add_edges_from([(i, j) for i in range(dim) for j in range(i + 1, dim)])\n",
    "\n",
    "# The matrix where we add the objective and the constraint (QUBO matrix)\n",
    "Q = defaultdict(int)\n",
    "\n",
    "print(G)\n",
    "print(Q)"
   ]
  },
  {
   "cell_type": "code",
   "execution_count": 42,
   "metadata": {},
   "outputs": [],
   "source": [
    "generateQuboMatrix(XtX, XtY, precision, Q, d)"
   ]
  },
  {
   "cell_type": "markdown",
   "metadata": {},
   "source": [
    "### Neal Simulated Annealing"
   ]
  },
  {
   "cell_type": "code",
   "execution_count": 43,
   "metadata": {},
   "outputs": [
    {
     "name": "stdout",
     "output_type": "stream",
     "text": [
      "[ 1.5   0.25 -1.   -0.75 -0.25 -0.75  0.25 -1.25 -0.25 -0.75  0.5   1.5\n",
      " -0.75  0.25  0.    0.   -0.25  0.5   0.75 -0.25 -0.75 -0.5   0.25  0.25\n",
      " -0.5  -0.25  0.25  0.75  0.    1.25  0.25  0.25 -1.    1.25  0.25 -0.25\n",
      " -0.75  0.25 -0.25 -0.25  0.25  0.75 -0.25 -0.25  0.5   0.    0.   -0.25\n",
      "  0.25  1.   -0.75  0.75 -1.5   0.75 -0.25  0.75]\n"
     ]
    }
   ],
   "source": [
    "sampleset = sampling(Q)\n",
    "distributions_neal, weights_neal = solve_neal(sampleset, dim, precision, d)\n",
    "\n",
    "print(weights_neal)"
   ]
  },
  {
   "cell_type": "code",
   "execution_count": 44,
   "metadata": {},
   "outputs": [
    {
     "name": "stdout",
     "output_type": "stream",
     "text": [
      "Neal Training Evaluation:\n",
      "MSE: 0.11657, MAE: 0.28285, R²: -0.39720\n",
      "\n",
      "Neal Testing Evaluation:\n",
      "MSE: 0.11688, MAE: 0.28339, R²: -0.40388\n"
     ]
    }
   ],
   "source": [
    "Y_train_pred_neal = np.dot(X_train, weights_neal)\n",
    "Y_test_pred_neal = np.dot(X_test, weights_neal)\n",
    "\n",
    "# Evaluate on training data\n",
    "train_mse_neal = mean_squared_error(Y_train, Y_train_pred_neal)\n",
    "train_mae_neal = mean_absolute_error(Y_train, Y_train_pred_neal)\n",
    "train_r2_neal = r2_score(Y_train, Y_train_pred_neal)\n",
    "\n",
    "# Evaluate on test data\n",
    "test_mse_neal = mean_squared_error(Y_test, Y_test_pred_neal)\n",
    "test_mae_neal = mean_absolute_error(Y_test, Y_test_pred_neal)\n",
    "test_r2_neal = r2_score(Y_test, Y_test_pred_neal)\n",
    "\n",
    "# Print the metrics\n",
    "print(\"Neal Training Evaluation:\")\n",
    "print(f\"MSE: {train_mse_neal:.5f}, MAE: {train_mae_neal:.5f}, R²: {train_r2_neal:.5f}\")\n",
    "\n",
    "print(\"\\nNeal Testing Evaluation:\")\n",
    "print(f\"MSE: {test_mse_neal:.5f}, MAE: {test_mae_neal:.5f}, R²: {test_r2_neal:.5f}\")"
   ]
  },
  {
   "cell_type": "markdown",
   "metadata": {},
   "source": [
    "### Fixstar Amplify Simulated Annealing"
   ]
  },
  {
   "cell_type": "code",
   "execution_count": 45,
   "metadata": {},
   "outputs": [
    {
     "name": "stdout",
     "output_type": "stream",
     "text": [
      "[ 0.5   0.    0.5   0.5   0.   -0.5   0.   -0.25 -0.25 -0.5   0.75 -1.\n",
      " -0.75  0.25  0.75 -0.25 -0.5  -0.5   0.25  0.25  0.25  0.   -0.25  0.\n",
      "  0.    0.25  0.5   0.    0.25 -0.25  0.25  0.    0.    0.5  -0.25 -0.75\n",
      "  0.25  0.5   0.    0.25  0.25  0.25 -0.25 -0.25 -0.5  -0.5   0.    0.25\n",
      " -0.25  0.    0.25  0.75 -0.25  0.    0.    0.  ]\n"
     ]
    }
   ],
   "source": [
    "distributions_fixstar, weights_fixstar = solve_fixstar(Q, dim, precision, d)\n",
    "\n",
    "print(weights_fixstar)"
   ]
  },
  {
   "cell_type": "code",
   "execution_count": 46,
   "metadata": {},
   "outputs": [
    {
     "name": "stdout",
     "output_type": "stream",
     "text": [
      "Fixstar Training Evaluation:\n",
      "MSE: 0.08535, MAE: 0.25211, R²: -0.02293\n",
      "\n",
      "Fixstar Testing Evaluation:\n",
      "MSE: 0.08517, MAE: 0.25178, R²: -0.02303\n"
     ]
    }
   ],
   "source": [
    "Y_train_pred_fixstar = np.dot(X_train, weights_fixstar)\n",
    "Y_test_pred_fixstar = np.dot(X_test, weights_fixstar)\n",
    "\n",
    "# Evaluate on training data\n",
    "train_mse_fixstar = mean_squared_error(Y_train, Y_train_pred_fixstar)\n",
    "train_mae_fixstar = mean_absolute_error(Y_train, Y_train_pred_fixstar)\n",
    "train_r2_fixstar = r2_score(Y_train, Y_train_pred_fixstar) \n",
    "\n",
    "# Evaluate on test data\n",
    "test_mse_fixstar = mean_squared_error(Y_test, Y_test_pred_fixstar)\n",
    "test_mae_fixstar = mean_absolute_error(Y_test, Y_test_pred_fixstar)\n",
    "test_r2_fixstar = r2_score(Y_test, Y_test_pred_fixstar)\n",
    "\n",
    "# Print the metrics\n",
    "print(\"Fixstar Training Evaluation:\")\n",
    "print(f\"MSE: {train_mse_fixstar:.5f}, MAE: {train_mae_fixstar:.5f}, R²: {train_r2_fixstar:.5f}\")    \n",
    "\n",
    "print(\"\\nFixstar Testing Evaluation:\")\n",
    "print(f\"MSE: {test_mse_fixstar:.5f}, MAE: {test_mae_fixstar:.5f}, R²: {test_r2_fixstar:.5f}\")    "
   ]
  },
  {
   "cell_type": "markdown",
   "metadata": {},
   "source": [
    "### Scikit Learn (Tradisional way)"
   ]
  },
  {
   "cell_type": "code",
   "execution_count": 47,
   "metadata": {},
   "outputs": [
    {
     "name": "stdout",
     "output_type": "stream",
     "text": [
      "Coefficients: [ 5.07307532e-19  1.47923253e-02 -1.24910518e-02  1.62349987e-02\n",
      "  9.13023248e-03  2.75228160e-02 -1.71033919e-02  2.12985571e-02\n",
      " -3.49799242e-02 -8.42254643e-04 -4.60008288e-03  2.60743714e-02\n",
      "  1.35762174e-02 -3.96422380e-02 -1.57915930e-02 -1.24423995e-02\n",
      " -2.13889727e-02 -1.77253940e-02  1.79472216e-02 -1.04945717e-02\n",
      " -4.24256509e-02  1.89597719e-03  9.31585934e-04  1.95790007e-02\n",
      "  1.12021327e-02 -5.21946425e-03  1.59717587e-03 -1.69437156e-02\n",
      " -1.27362490e-03 -1.33838982e-02  4.20446522e-03  9.00181945e-03\n",
      "  1.58888991e-02 -1.34982475e-02  8.43355177e-03  1.40860899e-03\n",
      " -2.33518761e-02 -2.03053667e-02  2.15486073e-02  1.97695688e-02\n",
      "  9.22610289e-03  1.28466958e-02 -6.64861979e-03  2.48798363e-02\n",
      " -2.03438928e-02  1.58539438e-02  1.22318291e-02 -1.56886883e-02\n",
      "  1.45630458e-03  2.37747959e-02  6.74872015e-03  5.32212675e-03\n",
      " -3.14806229e-02  2.14357700e-02 -7.27081063e-03  2.46908292e-02]\n",
      "Execution time: 2.88099 seconds\n",
      "\n",
      "Fixstar Training Evaluation:\n",
      "MSE: 0.08343, MAE: 0.25021, R²: 0.00007\n",
      "\n",
      "Fixstar Testing Evaluation:\n",
      "MSE: 0.08326, MAE: 0.24990, R²: -0.00004\n"
     ]
    }
   ],
   "source": [
    "import time\n",
    "from sklearn.linear_model import LinearRegression\n",
    "from sklearn.metrics import mean_squared_error as mse\n",
    "\n",
    "start_time = time.time() \n",
    "\n",
    "clf = LinearRegression()\n",
    "clf.fit(X_train, Y_train)\n",
    "print(\"Coefficients:\", clf.coef_)\n",
    "\n",
    "Y_train_pred_sklearn = clf.predict(X_train)\n",
    "Y_test_pred_sklearn = clf.predict(X_test)\n",
    "\n",
    "# Evaluate on training data\n",
    "train_mse_sklearn = mean_squared_error(Y_train, Y_train_pred_sklearn)\n",
    "train_mae_sklearn = mean_absolute_error(Y_train, Y_train_pred_sklearn)\n",
    "train_r2_sklearn = r2_score(Y_train, Y_train_pred_sklearn) \n",
    "\n",
    "# Evaluate on test data\n",
    "test_mse_sklearn = mean_squared_error(Y_test, Y_test_pred_sklearn)\n",
    "test_mae_sklearn = mean_absolute_error(Y_test, Y_test_pred_sklearn)\n",
    "test_r2_sklearn = r2_score(Y_test, Y_test_pred_sklearn)\n",
    "\n",
    "end_time = time.time()  \n",
    "execution_time = end_time - start_time\n",
    "\n",
    "print(f\"Execution time: {execution_time:.5f} seconds\\n\")\n",
    "\n",
    "# Print the metrics\n",
    "print(\"Fixstar Training Evaluation:\")\n",
    "print(f\"MSE: {train_mse_sklearn:.5f}, MAE: {train_mae_sklearn:.5f}, R²: {train_r2_sklearn:.5f}\")    \n",
    "\n",
    "print(\"\\nFixstar Testing Evaluation:\")\n",
    "print(f\"MSE: {test_mse_sklearn:.5f}, MAE: {test_mae_sklearn:.5f}, R²: {test_r2_sklearn:.5f}\")  "
   ]
  },
  {
   "cell_type": "markdown",
   "metadata": {},
   "source": [
    "### Final Evaluation"
   ]
  },
  {
   "cell_type": "code",
   "execution_count": 48,
   "metadata": {},
   "outputs": [
    {
     "data": {
      "text/html": [
       "<div>\n",
       "<style scoped>\n",
       "    .dataframe tbody tr th:only-of-type {\n",
       "        vertical-align: middle;\n",
       "    }\n",
       "\n",
       "    .dataframe tbody tr th {\n",
       "        vertical-align: top;\n",
       "    }\n",
       "\n",
       "    .dataframe thead th {\n",
       "        text-align: right;\n",
       "    }\n",
       "</style>\n",
       "<table border=\"1\" class=\"dataframe\">\n",
       "  <thead>\n",
       "    <tr style=\"text-align: right;\">\n",
       "      <th></th>\n",
       "      <th>Model</th>\n",
       "      <th>Dataset</th>\n",
       "      <th>MSE</th>\n",
       "      <th>MAE</th>\n",
       "      <th>R2 Score</th>\n",
       "    </tr>\n",
       "  </thead>\n",
       "  <tbody>\n",
       "    <tr>\n",
       "      <th>0</th>\n",
       "      <td>Neal</td>\n",
       "      <td>Train</td>\n",
       "      <td>0.116575</td>\n",
       "      <td>0.282851</td>\n",
       "      <td>-0.397196</td>\n",
       "    </tr>\n",
       "    <tr>\n",
       "      <th>1</th>\n",
       "      <td>Neal</td>\n",
       "      <td>Test</td>\n",
       "      <td>0.116882</td>\n",
       "      <td>0.283389</td>\n",
       "      <td>-0.403882</td>\n",
       "    </tr>\n",
       "    <tr>\n",
       "      <th>2</th>\n",
       "      <td>Fixstar</td>\n",
       "      <td>Train</td>\n",
       "      <td>0.085348</td>\n",
       "      <td>0.252115</td>\n",
       "      <td>-0.022935</td>\n",
       "    </tr>\n",
       "    <tr>\n",
       "      <th>3</th>\n",
       "      <td>Fixstar</td>\n",
       "      <td>Test</td>\n",
       "      <td>0.085173</td>\n",
       "      <td>0.251781</td>\n",
       "      <td>-0.023026</td>\n",
       "    </tr>\n",
       "    <tr>\n",
       "      <th>4</th>\n",
       "      <td>Sklearn</td>\n",
       "      <td>Train</td>\n",
       "      <td>0.083429</td>\n",
       "      <td>0.250206</td>\n",
       "      <td>0.000071</td>\n",
       "    </tr>\n",
       "    <tr>\n",
       "      <th>5</th>\n",
       "      <td>Sklearn</td>\n",
       "      <td>Test</td>\n",
       "      <td>0.083259</td>\n",
       "      <td>0.249900</td>\n",
       "      <td>-0.000037</td>\n",
       "    </tr>\n",
       "  </tbody>\n",
       "</table>\n",
       "</div>"
      ],
      "text/plain": [
       "     Model Dataset       MSE       MAE  R2 Score\n",
       "0     Neal   Train  0.116575  0.282851 -0.397196\n",
       "1     Neal    Test  0.116882  0.283389 -0.403882\n",
       "2  Fixstar   Train  0.085348  0.252115 -0.022935\n",
       "3  Fixstar    Test  0.085173  0.251781 -0.023026\n",
       "4  Sklearn   Train  0.083429  0.250206  0.000071\n",
       "5  Sklearn    Test  0.083259  0.249900 -0.000037"
      ]
     },
     "execution_count": 48,
     "metadata": {},
     "output_type": "execute_result"
    }
   ],
   "source": [
    "data = {\n",
    "    \"Model\": [\"Neal\", \"Neal\", \"Fixstar\", \"Fixstar\", \"Sklearn\", \"Sklearn\"],\n",
    "    \"Dataset\": [\"Train\", \"Test\", \"Train\", \"Test\", \"Train\", \"Test\"],\n",
    "    \"MSE\": [\n",
    "        train_mse_neal, test_mse_neal,\n",
    "        train_mse_fixstar, test_mse_fixstar,\n",
    "        train_mse_sklearn, test_mse_sklearn\n",
    "    ],\n",
    "    \"MAE\": [\n",
    "        train_mae_neal, test_mae_neal,\n",
    "        train_mae_fixstar, test_mae_fixstar,\n",
    "        train_mae_sklearn, test_mae_sklearn\n",
    "    ],\n",
    "    \"R2 Score\": [\n",
    "        train_r2_neal, test_r2_neal,\n",
    "        train_r2_fixstar, test_r2_fixstar,\n",
    "        train_r2_sklearn, test_r2_sklearn\n",
    "    ]\n",
    "}\n",
    "\n",
    "df_eval = pd.DataFrame(data)\n",
    "df_eval"
   ]
  }
 ],
 "metadata": {
  "kernelspec": {
   "display_name": "Python 3",
   "language": "python",
   "name": "python3"
  },
  "language_info": {
   "codemirror_mode": {
    "name": "ipython",
    "version": 3
   },
   "file_extension": ".py",
   "mimetype": "text/x-python",
   "name": "python",
   "nbconvert_exporter": "python",
   "pygments_lexer": "ipython3",
   "version": "3.10.6"
  }
 },
 "nbformat": 4,
 "nbformat_minor": 2
}
